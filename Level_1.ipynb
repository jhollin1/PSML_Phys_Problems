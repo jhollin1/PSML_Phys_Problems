{
 "cells": [
  {
   "cell_type": "markdown",
   "metadata": {},
   "source": [
    "# <font size=\"12\">Level 1: Practice with Linear Models </font>"
   ]
  },
  {
   "cell_type": "markdown",
   "metadata": {},
   "source": [
    "<font size=\"4\">    \n",
    "The goal of this series is to present questions and exercises that may guide an independent study in machine learning. Ideally, one would work through the problems here, consulting outside sources along the way in order to be able to complete the answer. That being said, any questions or problems may be directed to jhollin1@uci.edu. We believe that the problems presented here are in a logical order for somebody unfamiliar with machine learning, so that competency and comfort with modern techniques in machine learning can be achieved by the higher levels.\n",
    "    \n",
    "For the earlier levels, we provide a relatively directed tour through the problem. In later levels, the problems contain significantly less structure, giving you more creative license for how you solve the problem.\n",
    "</font>"
   ]
  },
  {
   "cell_type": "markdown",
   "metadata": {},
   "source": [
    "<font size=\"4\">    By the end of this notebook, you should be familiar with basic vocabularly used in machine learning. We will also introduce linear models as a vehicle to explore concepts in machine learning. </font>"
   ]
  },
  {
   "cell_type": "code",
   "execution_count": 4,
   "metadata": {},
   "outputs": [],
   "source": [
    "# Run this cell for necessary imports.\n",
    "import numpy as np\n",
    "import pandas as pd\n",
    "import matplotlib.pyplot as plt"
   ]
  },
  {
   "cell_type": "markdown",
   "metadata": {},
   "source": [
    "## <font size=\"6\">Problem 1: Free Falling Body </font>"
   ]
  },
  {
   "cell_type": "markdown",
   "metadata": {},
   "source": [
    "<font size=\"4\"> In this problem, we construct our very first machine learning model. Measurements of the time and velocity of a free falling body in Earth's gravity is given. The body has an initial velocity of $20$~m/s upward. We machine learn a linear fit to the velocity of the falling body. We break the problem into parts: </font>"
   ]
  },
  {
   "cell_type": "markdown",
   "metadata": {},
   "source": [
    "### a)"
   ]
  },
  {
   "cell_type": "markdown",
   "metadata": {},
   "source": [
    "Load the data saved in the file 'data/free_falling_body.py' under the keys 'X_train' and 'Y_train'. \n",
    "\n",
    "'X_train' is a pandas dataframe of measured times, labelled t.\n",
    "\n",
    "'Y_train' is a pandas dataframe of measured velocities, labelled v."
   ]
  },
  {
   "cell_type": "code",
   "execution_count": null,
   "metadata": {},
   "outputs": [],
   "source": [
    "X_train = # Load 'X_train' dataframe here.\n",
    "Y_train = # Load 'Y_train' dataframe here."
   ]
  },
  {
   "cell_type": "markdown",
   "metadata": {},
   "source": [
    "### b)"
   ]
  },
  {
   "cell_type": "markdown",
   "metadata": {},
   "source": [
    "Show a plot with $t$ on the horizontal axis and $v$ on the vertical axis. Confirm that this agrees with your intuition from physics."
   ]
  },
  {
   "cell_type": "code",
   "execution_count": 3,
   "metadata": {},
   "outputs": [],
   "source": [
    "# Plot t vs. v here."
   ]
  },
  {
   "cell_type": "markdown",
   "metadata": {},
   "source": [
    "### c)"
   ]
  },
  {
   "cell_type": "markdown",
   "metadata": {},
   "source": [
    "What is (are) the *features* of this dataset? What is (are) the *targets*?"
   ]
  },
  {
   "cell_type": "markdown",
   "metadata": {},
   "source": [
    "*Double click here to write your answer*"
   ]
  },
  {
   "cell_type": "markdown",
   "metadata": {},
   "source": [
    "### d)"
   ]
  },
  {
   "cell_type": "markdown",
   "metadata": {},
   "source": [
    "From your knowledge of introductory physics, what should the equation of the fit to $v$ be?"
   ]
  },
  {
   "cell_type": "markdown",
   "metadata": {},
   "source": [
    "*Double click here to write your equation. Jupyter is capable of handling $\\LaTeX$ syntax to format equations within markdown cells.*"
   ]
  },
  {
   "cell_type": "markdown",
   "metadata": {},
   "source": [
    "### e)"
   ]
  },
  {
   "cell_type": "markdown",
   "metadata": {},
   "source": [
    "What is a *parameter* of a model? A linear model will make predictions $\\hat{v}$ according to the equation:\n",
    "\n",
    "<h4 align=\"center\"> $\\hat{v} = m \\cdot t + b$ </h4>\n",
    "\n",
    "What are the parameters of this model?\n",
    "\n",
    "Compare the form of this equation with your answer to part d to determine what the optimal $m$ and $b$ should be."
   ]
  },
  {
   "cell_type": "markdown",
   "metadata": {},
   "source": [
    "*Your answer here.*\n",
    "\n",
    "$m_{optimal} = $ (your answer here)\n",
    "\n",
    "$b_{optimal} = $ (your answer here)"
   ]
  },
  {
   "cell_type": "markdown",
   "metadata": {},
   "source": [
    "### f)"
   ]
  },
  {
   "cell_type": "markdown",
   "metadata": {},
   "source": [
    "Write the *loss function* (also called the *cost function*) used in linear regression. Find the optimal values of $m$ and $b$ by analytic minimization of this loss function."
   ]
  },
  {
   "cell_type": "markdown",
   "metadata": {},
   "source": [
    "*Your answer here*"
   ]
  },
  {
   "cell_type": "markdown",
   "metadata": {},
   "source": [
    "### g)"
   ]
  },
  {
   "cell_type": "markdown",
   "metadata": {},
   "source": [
    "Find the optimal values of $m$ and $b$ by using *gradient descent* (implement your own gradient descent algorithm). Confirm that your answers to part e, part f, and part g are in agreement."
   ]
  },
  {
   "cell_type": "code",
   "execution_count": null,
   "metadata": {},
   "outputs": [],
   "source": [
    "# Your code here."
   ]
  },
  {
   "cell_type": "markdown",
   "metadata": {},
   "source": [
    "## <font size=\"6\">Problem 2: Projectile Motion </font>"
   ]
  },
  {
   "cell_type": "markdown",
   "metadata": {},
   "source": [
    "<font size=\"4\"> We explore the abilities and limits of linear models. We provide measurements of the height and distance of a projectile initially at ground level fired at $20$~m/s and an angle of $30^\\circ$. We attempt to machine learn the height of the projectile as a function of distance.</font>"
   ]
  },
  {
   "cell_type": "markdown",
   "metadata": {},
   "source": [
    "### a)"
   ]
  },
  {
   "cell_type": "markdown",
   "metadata": {},
   "source": [
    "'X_train' is a pandas dataframe of measured distances, labelled x.\n",
    "\n",
    "'Y_train' is a pandas dataframe of measured heights, labelled y.\n",
    "\n",
    "Construct a linear fit to this dataset by either analytically optimizing the cost function or by using gradient descent."
   ]
  },
  {
   "cell_type": "code",
   "execution_count": 17,
   "metadata": {},
   "outputs": [],
   "source": [
    "X_train = pd.read_hdf('data/projectile_motion.h5', key='X_train')\n",
    "Y_train = pd.read_hdf('data/projectile_motion.h5', key='Y_train')\n",
    "\n",
    "# Your code here."
   ]
  },
  {
   "cell_type": "markdown",
   "metadata": {},
   "source": [
    "### b)"
   ]
  },
  {
   "cell_type": "markdown",
   "metadata": {},
   "source": [
    "Superpose a scatter plot of the training data with a plot of your linear regression model. Why does the fit not work well? "
   ]
  },
  {
   "cell_type": "code",
   "execution_count": 18,
   "metadata": {},
   "outputs": [],
   "source": [
    "# Your code here"
   ]
  },
  {
   "cell_type": "markdown",
   "metadata": {},
   "source": [
    "*Your explanation here*"
   ]
  },
  {
   "cell_type": "markdown",
   "metadata": {},
   "source": [
    "### c) "
   ]
  },
  {
   "cell_type": "markdown",
   "metadata": {},
   "source": [
    "Add the value $x^2$ as an additional feature to 'X_train'. Our model is now 2 dimensional, with predictions $\\hat{y}$ made according to the equation:\n",
    "\n",
    "<h4 align=\"center\"> $\\hat{y} = m_1x^2 + m_2 x + b$ </h4>\n",
    "\n",
    "What do we expect the optimal values of $m_1$, $m_2$, and $b$ to be? You may need to reference a textbook on classical mechanics."
   ]
  },
  {
   "cell_type": "code",
   "execution_count": 19,
   "metadata": {},
   "outputs": [],
   "source": [
    "# Your code here."
   ]
  },
  {
   "cell_type": "markdown",
   "metadata": {},
   "source": [
    "$m_{1, optimal} = $ (your answer here)\n",
    "\n",
    "$m_{2, optimal} = $ (your answer here)\n",
    "\n",
    "$b_{optimal} = $ (your answer here)\n",
    "\n"
   ]
  },
  {
   "cell_type": "markdown",
   "metadata": {},
   "source": [
    "### d)"
   ]
  },
  {
   "cell_type": "markdown",
   "metadata": {},
   "source": [
    "Perform a linear fit to this extended dataset, either by analytically optimizing the loss function or by gradient descent."
   ]
  },
  {
   "cell_type": "code",
   "execution_count": null,
   "metadata": {},
   "outputs": [],
   "source": [
    "# Your code here."
   ]
  },
  {
   "cell_type": "markdown",
   "metadata": {},
   "source": [
    "### e) "
   ]
  },
  {
   "cell_type": "markdown",
   "metadata": {},
   "source": [
    "Superpose a scatter plot of the training data with a plot of your linear regression model trained on this extended dataset. Why does has the fit improved? "
   ]
  },
  {
   "cell_type": "code",
   "execution_count": 20,
   "metadata": {},
   "outputs": [],
   "source": [
    "# Your code here."
   ]
  },
  {
   "cell_type": "markdown",
   "metadata": {},
   "source": [
    "*Your answer here*"
   ]
  },
  {
   "cell_type": "markdown",
   "metadata": {},
   "source": [
    "## <font size=\"6\">Problem 3 </font>"
   ]
  },
  {
   "cell_type": "markdown",
   "metadata": {},
   "source": [
    "<font size=\"4\">We finish the level by exploring linear classification models.  A planetary orbit will either be circular, elliptical, parabolic, or hyperbolic. Circular and elliptical orbits are closed (meaning the body does not escape to $r=\\infty$), whereas parabolic and hyperbolic orbits are open (the body does escape to $r=\\infty$). \n",
    "    \n",
    "In this problem, we provide the radius and the magnitude of the velocity for orbiting bodies of mass $1$. We also provide labels for the dataset. Closed orbits are labelled with $y=1$ and open orbits are labelled with $y=0$. We measure radii in astronomical units and time in years, so that $GM_{\\odot} = 4 \\pi^2$. We will attempt to use a linear model to classify orbits as either open or closed. </font>"
   ]
  },
  {
   "cell_type": "code",
   "execution_count": 21,
   "metadata": {},
   "outputs": [],
   "source": [
    "X_train = pd.read_hdf('data/orbit_classification.h5', key='X_train')\n",
    "Y_train = pd.read_hdf('data/orbit_classification.h5', key='Y_train')"
   ]
  },
  {
   "cell_type": "markdown",
   "metadata": {},
   "source": [
    "### a)"
   ]
  },
  {
   "cell_type": "markdown",
   "metadata": {},
   "source": [
    "What is the loss function that we should use for this problem? Why is it different than the loss function used in the previous problems?"
   ]
  },
  {
   "cell_type": "markdown",
   "metadata": {},
   "source": [
    "*Your answer here*"
   ]
  },
  {
   "cell_type": "markdown",
   "metadata": {},
   "source": [
    "### b)"
   ]
  },
  {
   "cell_type": "markdown",
   "metadata": {},
   "source": [
    "Create a scatter plot of the radius 'r' against the velocity 'v'. Color points that result in a closed orbit in blue, and points that result in an open orbit in red."
   ]
  },
  {
   "cell_type": "code",
   "execution_count": 22,
   "metadata": {},
   "outputs": [],
   "source": [
    "# Your code here."
   ]
  },
  {
   "cell_type": "markdown",
   "metadata": {},
   "source": [
    "### c)"
   ]
  },
  {
   "cell_type": "markdown",
   "metadata": {},
   "source": [
    "Fit a linear classifier to the data by either analytic minimization of the loss function or gradient descent. "
   ]
  },
  {
   "cell_type": "code",
   "execution_count": 23,
   "metadata": {},
   "outputs": [],
   "source": [
    "# Your code here."
   ]
  },
  {
   "cell_type": "markdown",
   "metadata": {},
   "source": [
    "### d)"
   ]
  },
  {
   "cell_type": "markdown",
   "metadata": {},
   "source": [
    "Evaluate your linear classifier on all data in X_train. Round all predictions to the nearest integer to get predicted labels. Create a scatter plot of $r$ against $v$. Color orbits that your model predicts to be closed in blue. Color orbits that your model predicts to be open in red. Compare to your plot in part b. Do they agree? Why or why not?"
   ]
  },
  {
   "cell_type": "code",
   "execution_count": null,
   "metadata": {},
   "outputs": [],
   "source": [
    "# Your code here."
   ]
  },
  {
   "cell_type": "markdown",
   "metadata": {},
   "source": [
    "### e)"
   ]
  },
  {
   "cell_type": "markdown",
   "metadata": {},
   "source": [
    "Plot the *decision boundary* of your model. *BONUS: Solve for the equation of the optimal decision boundary by considering the orbital mechanics involved. Is there a feature we could add to our linear model in order to recover the actual decision boundary?*"
   ]
  },
  {
   "cell_type": "code",
   "execution_count": null,
   "metadata": {},
   "outputs": [],
   "source": [
    "# Your code here."
   ]
  }
 ],
 "metadata": {
  "kernelspec": {
   "display_name": "Python 3",
   "language": "python",
   "name": "python3"
  },
  "language_info": {
   "codemirror_mode": {
    "name": "ipython",
    "version": 3
   },
   "file_extension": ".py",
   "mimetype": "text/x-python",
   "name": "python",
   "nbconvert_exporter": "python",
   "pygments_lexer": "ipython3",
   "version": "3.6.8"
  }
 },
 "nbformat": 4,
 "nbformat_minor": 4
}
